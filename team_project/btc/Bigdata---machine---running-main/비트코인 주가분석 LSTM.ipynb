{
 "cells": [
  {
   "cell_type": "code",
   "execution_count": 1,
   "id": "4f3a809c",
   "metadata": {},
   "outputs": [
    {
     "name": "stdout",
     "output_type": "stream",
     "text": [
      "Requirement already satisfied: tensorflow in c:\\python310\\lib\\site-packages (2.9.0)\n",
      "Requirement already satisfied: packaging in c:\\python310\\lib\\site-packages (from tensorflow) (21.3)\n",
      "Requirement already satisfied: grpcio<2.0,>=1.24.3 in c:\\python310\\lib\\site-packages (from tensorflow) (1.46.3)\n",
      "Requirement already satisfied: termcolor>=1.1.0 in c:\\python310\\lib\\site-packages (from tensorflow) (1.1.0)\n",
      "Requirement already satisfied: libclang>=13.0.0 in c:\\python310\\lib\\site-packages (from tensorflow) (14.0.1)\n",
      "Requirement already satisfied: google-pasta>=0.1.1 in c:\\python310\\lib\\site-packages (from tensorflow) (0.2.0)\n",
      "Requirement already satisfied: typing-extensions>=3.6.6 in c:\\python310\\lib\\site-packages (from tensorflow) (4.2.0)\n",
      "Requirement already satisfied: setuptools in c:\\python310\\lib\\site-packages (from tensorflow) (61.0.0)\n",
      "Requirement already satisfied: astunparse>=1.6.0 in c:\\python310\\lib\\site-packages (from tensorflow) (1.6.3)\n",
      "Requirement already satisfied: flatbuffers<2,>=1.12 in c:\\python310\\lib\\site-packages (from tensorflow) (1.12)\n",
      "Requirement already satisfied: h5py>=2.9.0 in c:\\python310\\lib\\site-packages (from tensorflow) (3.6.0)\n",
      "Requirement already satisfied: opt-einsum>=2.3.2 in c:\\python310\\lib\\site-packages (from tensorflow) (3.3.0)\n",
      "Requirement already satisfied: absl-py>=1.0.0 in c:\\python310\\lib\\site-packages (from tensorflow) (1.0.0)\n",
      "Requirement already satisfied: six>=1.12.0 in c:\\python310\\lib\\site-packages (from tensorflow) (1.16.0)\n",
      "Requirement already satisfied: gast<=0.4.0,>=0.2.1 in c:\\python310\\lib\\site-packages (from tensorflow) (0.4.0)\n",
      "Requirement already satisfied: tensorboard<2.10,>=2.9 in c:\\python310\\lib\\site-packages (from tensorflow) (2.9.0)\n",
      "Requirement already satisfied: keras<2.10.0,>=2.9.0rc0 in c:\\python310\\lib\\site-packages (from tensorflow) (2.9.0)\n",
      "Requirement already satisfied: wrapt>=1.11.0 in c:\\python310\\lib\\site-packages (from tensorflow) (1.14.1)\n",
      "Requirement already satisfied: keras-preprocessing>=1.1.1 in c:\\python310\\lib\\site-packages (from tensorflow) (1.1.2)\n",
      "Requirement already satisfied: protobuf>=3.9.2 in c:\\python310\\lib\\site-packages (from tensorflow) (3.20.1)\n",
      "Requirement already satisfied: numpy>=1.20 in c:\\python310\\lib\\site-packages (from tensorflow) (1.22.3)\n",
      "Requirement already satisfied: tensorflow-estimator<2.10.0,>=2.9.0rc0 in c:\\python310\\lib\\site-packages (from tensorflow) (2.9.0)\n",
      "Requirement already satisfied: tensorflow-io-gcs-filesystem>=0.23.1 in c:\\python310\\lib\\site-packages (from tensorflow) (0.26.0)\n",
      "Requirement already satisfied: wheel<1.0,>=0.23.0 in c:\\python310\\lib\\site-packages (from astunparse>=1.6.0->tensorflow) (0.37.1)\n",
      "Requirement already satisfied: google-auth-oauthlib<0.5,>=0.4.1 in c:\\python310\\lib\\site-packages (from tensorboard<2.10,>=2.9->tensorflow) (0.4.6)\n",
      "Requirement already satisfied: markdown>=2.6.8 in c:\\python310\\lib\\site-packages (from tensorboard<2.10,>=2.9->tensorflow) (3.3.7)\n",
      "Requirement already satisfied: google-auth<3,>=1.6.3 in c:\\python310\\lib\\site-packages (from tensorboard<2.10,>=2.9->tensorflow) (2.6.6)\n",
      "Requirement already satisfied: tensorboard-data-server<0.7.0,>=0.6.0 in c:\\python310\\lib\\site-packages (from tensorboard<2.10,>=2.9->tensorflow) (0.6.1)\n",
      "Requirement already satisfied: tensorboard-plugin-wit>=1.6.0 in c:\\python310\\lib\\site-packages (from tensorboard<2.10,>=2.9->tensorflow) (1.8.1)\n",
      "Requirement already satisfied: werkzeug>=1.0.1 in c:\\python310\\lib\\site-packages (from tensorboard<2.10,>=2.9->tensorflow) (2.1.2)\n",
      "Requirement already satisfied: requests<3,>=2.21.0 in c:\\python310\\lib\\site-packages (from tensorboard<2.10,>=2.9->tensorflow) (2.27.1)\n",
      "Requirement already satisfied: pyparsing!=3.0.5,>=2.0.2 in c:\\python310\\lib\\site-packages (from packaging->tensorflow) (3.0.7)\n",
      "Requirement already satisfied: cachetools<6.0,>=2.0.0 in c:\\python310\\lib\\site-packages (from google-auth<3,>=1.6.3->tensorboard<2.10,>=2.9->tensorflow) (5.1.0)\n",
      "Requirement already satisfied: rsa<5,>=3.1.4 in c:\\python310\\lib\\site-packages (from google-auth<3,>=1.6.3->tensorboard<2.10,>=2.9->tensorflow) (4.8)\n",
      "Requirement already satisfied: pyasn1-modules>=0.2.1 in c:\\python310\\lib\\site-packages (from google-auth<3,>=1.6.3->tensorboard<2.10,>=2.9->tensorflow) (0.2.8)\n",
      "Requirement already satisfied: requests-oauthlib>=0.7.0 in c:\\python310\\lib\\site-packages (from google-auth-oauthlib<0.5,>=0.4.1->tensorboard<2.10,>=2.9->tensorflow) (1.3.1)\n",
      "Requirement already satisfied: certifi>=2017.4.17 in c:\\python310\\lib\\site-packages (from requests<3,>=2.21.0->tensorboard<2.10,>=2.9->tensorflow) (2022.5.18.1)\n",
      "Requirement already satisfied: urllib3<1.27,>=1.21.1 in c:\\python310\\lib\\site-packages (from requests<3,>=2.21.0->tensorboard<2.10,>=2.9->tensorflow) (1.26.9)\n",
      "Requirement already satisfied: charset-normalizer~=2.0.0 in c:\\python310\\lib\\site-packages (from requests<3,>=2.21.0->tensorboard<2.10,>=2.9->tensorflow) (2.0.12)\n",
      "Requirement already satisfied: idna<4,>=2.5 in c:\\python310\\lib\\site-packages (from requests<3,>=2.21.0->tensorboard<2.10,>=2.9->tensorflow) (3.3)\n",
      "Requirement already satisfied: pyasn1<0.5.0,>=0.4.6 in c:\\python310\\lib\\site-packages (from pyasn1-modules>=0.2.1->google-auth<3,>=1.6.3->tensorboard<2.10,>=2.9->tensorflow) (0.4.8)\n",
      "Requirement already satisfied: oauthlib>=3.0.0 in c:\\python310\\lib\\site-packages (from requests-oauthlib>=0.7.0->google-auth-oauthlib<0.5,>=0.4.1->tensorboard<2.10,>=2.9->tensorflow) (3.2.0)\n",
      "Note: you may need to restart the kernel to use updated packages.\n",
      "Requirement already satisfied: pyupbit in c:\\python310\\lib\\site-packages (0.2.33)\n",
      "Requirement already satisfied: pyjwt>=2.0.0 in c:\\python310\\lib\\site-packages (from pyupbit) (2.6.0)\n",
      "Requirement already satisfied: pandas in c:\\python310\\lib\\site-packages (from pyupbit) (1.4.1)\n",
      "Requirement already satisfied: websockets in c:\\python310\\lib\\site-packages (from pyupbit) (10.4)\n",
      "Requirement already satisfied: requests in c:\\python310\\lib\\site-packages (from pyupbit) (2.27.1)\n",
      "Requirement already satisfied: pytz>=2020.1 in c:\\python310\\lib\\site-packages (from pandas->pyupbit) (2022.1)\n",
      "Requirement already satisfied: numpy>=1.21.0 in c:\\python310\\lib\\site-packages (from pandas->pyupbit) (1.22.3)\n",
      "Requirement already satisfied: python-dateutil>=2.8.1 in c:\\python310\\lib\\site-packages (from pandas->pyupbit) (2.8.2)\n",
      "Requirement already satisfied: certifi>=2017.4.17 in c:\\python310\\lib\\site-packages (from requests->pyupbit) (2022.5.18.1)\n",
      "Requirement already satisfied: charset-normalizer~=2.0.0 in c:\\python310\\lib\\site-packages (from requests->pyupbit) (2.0.12)\n",
      "Requirement already satisfied: idna<4,>=2.5 in c:\\python310\\lib\\site-packages (from requests->pyupbit) (3.3)\n",
      "Requirement already satisfied: urllib3<1.27,>=1.21.1 in c:\\python310\\lib\\site-packages (from requests->pyupbit) (1.26.9)\n",
      "Requirement already satisfied: six>=1.5 in c:\\python310\\lib\\site-packages (from python-dateutil>=2.8.1->pandas->pyupbit) (1.16.0)\n",
      "Note: you may need to restart the kernel to use updated packages.\n"
     ]
    }
   ],
   "source": [
    "%pip install tensorflow\n",
    "%pip install pyupbit"
   ]
  },
  {
   "cell_type": "code",
   "execution_count": 2,
   "id": "51394839",
   "metadata": {},
   "outputs": [],
   "source": [
    "import numpy as np\n",
    "import pandas as pd\n",
    "import matplotlib.pyplot as plt\n",
    "import pyupbit as pb"
   ]
  },
  {
   "cell_type": "code",
   "execution_count": 3,
   "id": "30b6f840",
   "metadata": {},
   "outputs": [
    {
     "data": {
      "text/html": [
       "<div>\n",
       "<style scoped>\n",
       "    .dataframe tbody tr th:only-of-type {\n",
       "        vertical-align: middle;\n",
       "    }\n",
       "\n",
       "    .dataframe tbody tr th {\n",
       "        vertical-align: top;\n",
       "    }\n",
       "\n",
       "    .dataframe thead th {\n",
       "        text-align: right;\n",
       "    }\n",
       "</style>\n",
       "<table border=\"1\" class=\"dataframe\">\n",
       "  <thead>\n",
       "    <tr style=\"text-align: right;\">\n",
       "      <th></th>\n",
       "      <th>open</th>\n",
       "      <th>high</th>\n",
       "      <th>low</th>\n",
       "      <th>close</th>\n",
       "      <th>volume</th>\n",
       "      <th>value</th>\n",
       "    </tr>\n",
       "  </thead>\n",
       "  <tbody>\n",
       "    <tr>\n",
       "      <th>2019-12-01 09:00:00</th>\n",
       "      <td>8838000.0</td>\n",
       "      <td>8840000.0</td>\n",
       "      <td>8480000.0</td>\n",
       "      <td>8630000.0</td>\n",
       "      <td>3023.698278</td>\n",
       "      <td>2.606601e+10</td>\n",
       "    </tr>\n",
       "    <tr>\n",
       "      <th>2019-12-02 09:00:00</th>\n",
       "      <td>8630000.0</td>\n",
       "      <td>8705000.0</td>\n",
       "      <td>8415000.0</td>\n",
       "      <td>8585000.0</td>\n",
       "      <td>1837.439258</td>\n",
       "      <td>1.571477e+10</td>\n",
       "    </tr>\n",
       "    <tr>\n",
       "      <th>2019-12-03 09:00:00</th>\n",
       "      <td>8590000.0</td>\n",
       "      <td>8700000.0</td>\n",
       "      <td>8520000.0</td>\n",
       "      <td>8607000.0</td>\n",
       "      <td>1641.815953</td>\n",
       "      <td>1.414423e+10</td>\n",
       "    </tr>\n",
       "    <tr>\n",
       "      <th>2019-12-04 09:00:00</th>\n",
       "      <td>8607000.0</td>\n",
       "      <td>8996000.0</td>\n",
       "      <td>8432000.0</td>\n",
       "      <td>8515000.0</td>\n",
       "      <td>5171.381015</td>\n",
       "      <td>4.477820e+10</td>\n",
       "    </tr>\n",
       "    <tr>\n",
       "      <th>2019-12-05 09:00:00</th>\n",
       "      <td>8515000.0</td>\n",
       "      <td>8810000.0</td>\n",
       "      <td>8480000.0</td>\n",
       "      <td>8685000.0</td>\n",
       "      <td>3969.792297</td>\n",
       "      <td>3.435429e+10</td>\n",
       "    </tr>\n",
       "    <tr>\n",
       "      <th>...</th>\n",
       "      <td>...</td>\n",
       "      <td>...</td>\n",
       "      <td>...</td>\n",
       "      <td>...</td>\n",
       "      <td>...</td>\n",
       "      <td>...</td>\n",
       "    </tr>\n",
       "    <tr>\n",
       "      <th>2022-11-27 09:00:00</th>\n",
       "      <td>22646000.0</td>\n",
       "      <td>22774000.0</td>\n",
       "      <td>22605000.0</td>\n",
       "      <td>22646000.0</td>\n",
       "      <td>1989.051138</td>\n",
       "      <td>4.517556e+10</td>\n",
       "    </tr>\n",
       "    <tr>\n",
       "      <th>2022-11-28 09:00:00</th>\n",
       "      <td>22661000.0</td>\n",
       "      <td>22690000.0</td>\n",
       "      <td>22217000.0</td>\n",
       "      <td>22339000.0</td>\n",
       "      <td>3579.090571</td>\n",
       "      <td>8.021448e+10</td>\n",
       "    </tr>\n",
       "    <tr>\n",
       "      <th>2022-11-29 09:00:00</th>\n",
       "      <td>22329000.0</td>\n",
       "      <td>22617000.0</td>\n",
       "      <td>22155000.0</td>\n",
       "      <td>22417000.0</td>\n",
       "      <td>2523.908210</td>\n",
       "      <td>5.664776e+10</td>\n",
       "    </tr>\n",
       "    <tr>\n",
       "      <th>2022-11-30 09:00:00</th>\n",
       "      <td>22417000.0</td>\n",
       "      <td>23293000.0</td>\n",
       "      <td>22415000.0</td>\n",
       "      <td>23192000.0</td>\n",
       "      <td>4690.575205</td>\n",
       "      <td>1.075721e+11</td>\n",
       "    </tr>\n",
       "    <tr>\n",
       "      <th>2022-12-01 09:00:00</th>\n",
       "      <td>23209000.0</td>\n",
       "      <td>23400000.0</td>\n",
       "      <td>22871000.0</td>\n",
       "      <td>23002000.0</td>\n",
       "      <td>3278.515197</td>\n",
       "      <td>7.576107e+10</td>\n",
       "    </tr>\n",
       "  </tbody>\n",
       "</table>\n",
       "<p>1097 rows × 6 columns</p>\n",
       "</div>"
      ],
      "text/plain": [
       "                           open        high         low       close  \\\n",
       "2019-12-01 09:00:00   8838000.0   8840000.0   8480000.0   8630000.0   \n",
       "2019-12-02 09:00:00   8630000.0   8705000.0   8415000.0   8585000.0   \n",
       "2019-12-03 09:00:00   8590000.0   8700000.0   8520000.0   8607000.0   \n",
       "2019-12-04 09:00:00   8607000.0   8996000.0   8432000.0   8515000.0   \n",
       "2019-12-05 09:00:00   8515000.0   8810000.0   8480000.0   8685000.0   \n",
       "...                         ...         ...         ...         ...   \n",
       "2022-11-27 09:00:00  22646000.0  22774000.0  22605000.0  22646000.0   \n",
       "2022-11-28 09:00:00  22661000.0  22690000.0  22217000.0  22339000.0   \n",
       "2022-11-29 09:00:00  22329000.0  22617000.0  22155000.0  22417000.0   \n",
       "2022-11-30 09:00:00  22417000.0  23293000.0  22415000.0  23192000.0   \n",
       "2022-12-01 09:00:00  23209000.0  23400000.0  22871000.0  23002000.0   \n",
       "\n",
       "                          volume         value  \n",
       "2019-12-01 09:00:00  3023.698278  2.606601e+10  \n",
       "2019-12-02 09:00:00  1837.439258  1.571477e+10  \n",
       "2019-12-03 09:00:00  1641.815953  1.414423e+10  \n",
       "2019-12-04 09:00:00  5171.381015  4.477820e+10  \n",
       "2019-12-05 09:00:00  3969.792297  3.435429e+10  \n",
       "...                          ...           ...  \n",
       "2022-11-27 09:00:00  1989.051138  4.517556e+10  \n",
       "2022-11-28 09:00:00  3579.090571  8.021448e+10  \n",
       "2022-11-29 09:00:00  2523.908210  5.664776e+10  \n",
       "2022-11-30 09:00:00  4690.575205  1.075721e+11  \n",
       "2022-12-01 09:00:00  3278.515197  7.576107e+10  \n",
       "\n",
       "[1097 rows x 6 columns]"
      ]
     },
     "execution_count": 3,
     "metadata": {},
     "output_type": "execute_result"
    }
   ],
   "source": [
    "df = pb.get_ohlcv(\"KRW-BTC\", interval=\"day\", count=1097, to = '20221202') #코로나 최초 보고일부터 현재(19/12/01~22/12/01)까지 불러오기\n",
    "df"
   ]
  },
  {
   "cell_type": "code",
   "execution_count": 4,
   "id": "0e189a0d",
   "metadata": {},
   "outputs": [],
   "source": [
    "seq = df[['close','open','high','low']].to_numpy() #종가, 오픈, 고가, 저가"
   ]
  },
  {
   "cell_type": "code",
   "execution_count": 5,
   "id": "77a99470",
   "metadata": {},
   "outputs": [
    {
     "data": {
      "text/plain": [
       "array([[ 8630000.,  8838000.,  8840000.,  8480000.],\n",
       "       [ 8585000.,  8630000.,  8705000.,  8415000.],\n",
       "       [ 8607000.,  8590000.,  8700000.,  8520000.],\n",
       "       ...,\n",
       "       [22417000., 22329000., 22617000., 22155000.],\n",
       "       [23192000., 22417000., 23293000., 22415000.],\n",
       "       [23002000., 23209000., 23400000., 22871000.]])"
      ]
     },
     "execution_count": 5,
     "metadata": {},
     "output_type": "execute_result"
    }
   ],
   "source": [
    "seq"
   ]
  },
  {
   "cell_type": "code",
   "execution_count": 6,
   "id": "e4f0ee94",
   "metadata": {},
   "outputs": [],
   "source": [
    "#시계열 데이터를 윈도우 단위로 자르는 함수\n",
    "def seq2dataset(seq, window, horizon):\n",
    "    X=[]\n",
    "    Y=[]\n",
    "\n",
    "    for i in range(len(seq) - (window + horizon) + 1):\n",
    "        x = seq[i:(i + window)]\n",
    "        y = (seq[i + window + horizon - 1])\n",
    "        X.append(x)\n",
    "        Y.append(y)\n",
    "\n",
    "    return np.array(X), np.array(Y)"
   ]
  },
  {
   "cell_type": "code",
   "execution_count": 7,
   "id": "9011c541",
   "metadata": {},
   "outputs": [
    {
     "name": "stdout",
     "output_type": "stream",
     "text": [
      "(1090, 7, 4) (1090, 4)\n",
      "[[8630000. 8838000. 8840000. 8480000.]\n",
      " [8585000. 8630000. 8705000. 8415000.]\n",
      " [8607000. 8590000. 8700000. 8520000.]\n",
      " [8515000. 8607000. 8996000. 8432000.]\n",
      " [8685000. 8515000. 8810000. 8480000.]\n",
      " [8813000. 8685000. 8852000. 8614000.]\n",
      " [8784000. 8815000. 8897000. 8776000.]] [8807000. 8784000. 8857000. 8670000.]\n"
     ]
    }
   ],
   "source": [
    "w= 7 #윈도우 크기\n",
    "h= 1 #수평선 계수\n",
    "\n",
    "X, Y =seq2dataset(seq, w, h)  #다중 채널 데이터의 텐서모양과 내용\n",
    "\n",
    "print(X.shape, Y.shape)\n",
    "print(X[0], Y[0])"
   ]
  },
  {
   "cell_type": "markdown",
   "id": "f11662d9",
   "metadata": {},
   "source": [
    "- x의 텐서모양 = 1704x7x4\n",
    "- y의 텐서모양 = 1704x4"
   ]
  },
  {
   "cell_type": "code",
   "execution_count": 8,
   "id": "dc203a58",
   "metadata": {},
   "outputs": [],
   "source": [
    "from tensorflow.keras.models import Sequential\n",
    "from tensorflow.keras.layers import Dense, LSTM, Dropout"
   ]
  },
  {
   "cell_type": "code",
   "execution_count": 9,
   "id": "63bb65f5",
   "metadata": {},
   "outputs": [],
   "source": [
    "# 훈련집합과 테스트 집합으로 분할\n",
    "split = int(len(X)*0.8)\n",
    "\n",
    "x_train = X[0:split]\n",
    "y_train = Y[0:split]\n",
    "\n",
    "x_test = X[split:]\n",
    "y_test = Y[split:]"
   ]
  },
  {
   "cell_type": "code",
   "execution_count": 10,
   "id": "db35f2b6",
   "metadata": {},
   "outputs": [
    {
     "name": "stdout",
     "output_type": "stream",
     "text": [
      "Epoch 1/200\n",
      "872/872 - 5s - loss: 4341761.5000 - mae: 4341761.5000 - val_loss: 1286716.7500 - val_mae: 1286716.7500 - 5s/epoch - 6ms/step\n",
      "Epoch 2/200\n",
      "872/872 - 3s - loss: 2841865.7500 - mae: 2841865.7500 - val_loss: 1080434.3750 - val_mae: 1080434.3750 - 3s/epoch - 4ms/step\n",
      "Epoch 3/200\n"
     ]
    }
   ],
   "source": [
    "#LSTM 모델의 설계와 학습\n",
    "model = Sequential()\n",
    "model.add(LSTM(units=128, activation='relu', input_shape=x_train[0].shape))\n",
    "model.add(Dense(4))\n",
    "model.compile(loss='mae', optimizer='adam', metrics=['mae'])\n",
    "hist= model.fit(x_train,y_train,epochs=200,batch_size=1,validation_data=(x_test,y_test),verbose=2)"
   ]
  },
  {
   "cell_type": "code",
   "execution_count": null,
   "id": "30df6bf4",
   "metadata": {},
   "outputs": [
    {
     "name": "stdout",
     "output_type": "stream",
     "text": [
      "손실함수: 812231.125 MAE: 812231.125\n"
     ]
    }
   ],
   "source": [
    "#LSTM 모델 평가\n",
    "ev=model.evaluate(x_test,y_test,verbose=0)\n",
    "print(\"손실함수:\",ev[0],\"MAE:\",ev[1])"
   ]
  },
  {
   "cell_type": "code",
   "execution_count": null,
   "id": "3475f8cd",
   "metadata": {},
   "outputs": [
    {
     "name": "stdout",
     "output_type": "stream",
     "text": [
      "7/7 [==============================] - 0s 5ms/step\n",
      "LSTM 평균절댓값백분율오차(MAPE): [0.03237084 0.01792414 0.02093791 0.03609792]\n"
     ]
    }
   ],
   "source": [
    "#LSTM 모델로 예측 수행\n",
    "pred=model.predict(x_test)\n",
    "print(\"LSTM 평균절댓값백분율오차(MAPE):\",sum(abs(y_test-pred)/y_test)/len(x_test))"
   ]
  },
  {
   "cell_type": "markdown",
   "id": "74344dce",
   "metadata": {},
   "source": [
    "MAPE\n",
    "- 종가: 2.53%\n",
    "- 오픈: 0.45%\n",
    "- 고가: 1.89%\n",
    "- 저가: 1.64%"
   ]
  },
  {
   "cell_type": "code",
   "execution_count": null,
   "id": "6cc61693",
   "metadata": {},
   "outputs": [
    {
     "data": {
      "image/png": "[encoded data removed]",
      "text/plain": [
       "<Figure size 640x480 with 1 Axes>"
      ]
     },
     "metadata": {},
     "output_type": "display_data"
    }
   ],
   "source": [
    "#학습곡선\n",
    "plt.plot(hist.history['mae'])\n",
    "plt.plot(hist.history['val_mae'])\n",
    "plt.title('Model mae')\n",
    "plt.ylabel('mae')\n",
    "plt.xlabel('Epoch')\n",
    "plt.ylim([0,5000000])\n",
    "plt.legend(['Train','Validation'],loc='best')\n",
    "plt.grid()\n",
    "plt.show()"
   ]
  }
 ],
 "metadata": {
  "kernelspec": {
   "display_name": "Python 3.10.4 64-bit",
   "language": "python",
   "name": "python3"
  },
  "language_info": {
   "codemirror_mode": {
    "name": "ipython",
    "version": 3
   },
   "file_extension": ".py",
   "mimetype": "text/x-python",
   "name": "python",
   "nbconvert_exporter": "python",
   "pygments_lexer": "ipython3",
   "version": "3.10.4"
  },
  "vscode": {
   "interpreter": {
    "hash": "369f2c481f4da34e4445cda3fffd2e751bd1c4d706f27375911949ba6bb62e1c"
   }
  }
 },
 "nbformat": 4,
 "nbformat_minor": 5
}
